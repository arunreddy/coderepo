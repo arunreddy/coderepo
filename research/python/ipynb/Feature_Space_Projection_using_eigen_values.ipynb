{
 "cells": [
  {
   "cell_type": "markdown",
   "metadata": {},
   "source": [
    "Import required modules."
   ]
  },
  {
   "cell_type": "code",
   "execution_count": 1,
   "metadata": {
    "collapsed": false
   },
   "outputs": [],
   "source": [
    "%matplotlib inline\n",
    "import numpy as np\n",
    "import nltk\n",
    "import os\n",
    "import os.path\n",
    "import scipy as sp\n",
    "\n",
    "import math\n",
    "\n",
    "from sklearn.feature_extraction.text import CountVectorizer\n",
    "from sklearn.feature_extraction.text import TfidfVectorizer\n",
    "from sklearn import cross_validation\n",
    "from sklearn import svm\n",
    "from sklearn.metrics import accuracy_score\n",
    "from sklearn.cross_validation import StratifiedKFold\n",
    "from sklearn.metrics import mutual_info_score\n",
    "from sklearn.preprocessing import normalize\n",
    "\n",
    "from sklearn.metrics.pairwise import pairwise_distances\n",
    "import itertools\n",
    "import pyprind\n",
    "import psutil\n",
    "import joblib"
   ]
  },
  {
   "cell_type": "markdown",
   "metadata": {},
   "source": [
    "Functions"
   ]
  },
  {
   "cell_type": "code",
   "execution_count": 43,
   "metadata": {
    "collapsed": false
   },
   "outputs": [],
   "source": [
    "def getCorpus(lines):\n",
    "    ids = list()\n",
    "    labels = list()\n",
    "    corpus = list()\n",
    "    for line in lines:\n",
    "        strs=line.rstrip('\\n').split(\"\\t\",2)\n",
    "        ids.append(strs[0])\n",
    "        labels.append(strs[1])\n",
    "        corpus.append(strs[2])\n",
    "    return ids,labels,corpus\n",
    "\n",
    "def loadMultiDomainData(domain):\n",
    "    posFile = \"{0}/data/domains/{1}/positive.review.text\".format(os.environ['HOME'],domain)\n",
    "    negFile = \"{0}/data/domains/{1}/negative.review.text\".format(os.environ['HOME'],domain)\n",
    "    \n",
    "    posLines = tuple(open(posFile,'r'))\n",
    "    negLines = tuple(open(negFile,'r'))\n",
    "\n",
    "    \n",
    "    p_ids,p_labels,p_corpus = getCorpus(posLines)\n",
    "    n_ids,n_labels,n_corpus = getCorpus(negLines)\n",
    "\n",
    "    return p_ids+n_ids,p_labels+n_labels,p_corpus+n_corpus\n",
    "    \n",
    "def classConditionalProbs(X,Y,classLabels,smoothing='None'):\n",
    "    noOfFeatures=X.shape[1]\n",
    "    Xprime = np.ndarray((len(classLabels),noOfFeatures),dtype=float)\n",
    "    \n",
    "    if smoothing == 'additive':\n",
    "        for c in classLabels:\n",
    "            indices = [i for i, x in enumerate(Y) if x == c]\n",
    "            Xprime[c,:]=(X[indices,:].sum(axis=0)+1)/(len(indices)+noOfFeatures)\n",
    "    else:\n",
    "        for c in classLabels:\n",
    "            indices = [i for i, x in enumerate(Y) if x == c]\n",
    "            Xprime[c,:]=X[indices,:].sum(axis=0)/len(indices)\n",
    "\n",
    "    return Xprime;\n",
    "\n",
    "def symKlDivergence(P,Q,classLabels):\n",
    "    kldC=0.0;\n",
    "    for c in classLabels:\n",
    "        kldST=sp.stats.entropy(P[c,:],Q[c,:])\n",
    "        kldTS=sp.stats.entropy(Q[c,:],P[c,:])\n",
    "        kldC+=(kldST+kldTS);\n",
    "    \n",
    "    return kldC;\n",
    "\n",
    "def generate_WS_matrix(A,B):\n",
    "    nA = len(A);\n",
    "    nB = len(B);\n",
    "    simMat = np.ndarray((nA+nB,nA+nB),dtype=float)\n",
    "    diffMat = np.ndarray((nA+nB,nA+nB),dtype=float)\n",
    "    C = A+B;\n",
    "    nC=nA+nB;\n",
    "    \n",
    "    ticks = (nC*(nC+1)/2);\n",
    "    bar = pyprind.ProgBar(ticks,monitor=True)\n",
    "    for c in itertools.combinations(range(nC),2):\n",
    "            bar.update()\n",
    "            i=c[0];\n",
    "            j=c[1];\n",
    "            if(C[i]==C[j]):\n",
    "                simMat[i,j]=1.0;\n",
    "            else:\n",
    "                diffMat[i,j]=1.0;\n",
    "    \n",
    "    simMat = sp.sparse.csc_matrix(simMat+simMat.transpose()+np.eye(nC))\n",
    "    diffMat = sp.sparse.csc_matrix(diffMat+diffMat.transpose())\n",
    "    print(bar)    \n",
    "    return simMat,diffMat;\n",
    "\n",
    "\n",
    "def generate_topology_matrix(A,B):\n",
    "    nA = A.shape[0];\n",
    "    nB = B.shape[0];\n",
    "    tMat = np.ndarray((nA+nB,nA+nB),dtype=float)\n",
    "    C = sp.sparse.vstack((A, B), format='csr');\n",
    "    \n",
    "    nC=nA+nB;\n",
    "    \n",
    "    ticks = (nC*(nC+1)/2);\n",
    "    bar = pyprind.ProgBar(ticks,monitor=True)\n",
    "    for i in itertools.combinations(range(nA+nB),2):\n",
    "        bar.update()\n",
    "        xa = C[i[0],:]\n",
    "        xb = C[i[1],:]\n",
    "        dist=pairwise_distances(xa,xb)[0][0]\n",
    "        tMat[i[0],i[1]]=math.exp(-1*dist*dist)    \n",
    "    \n",
    "    \n",
    "    tMat = sp.sparse.csc_matrix(tMat+tMat.transpose())\n",
    "    print(bar)\n",
    "    return tMat;\n",
    "\n",
    "def laplacian_matrix(A):\n",
    "    D=sp.sparse.csc_matrix(simMat.sum(axis=0)).multiply(sp.sparse.eye(simMat.shape[0]));\n",
    "    return D-A;\n",
    "\n",
    "def reweighting_scheme_01():\n",
    "    pass"
   ]
  },
  {
   "cell_type": "markdown",
   "metadata": {},
   "source": [
    "Load Multidomain Data"
   ]
  },
  {
   "cell_type": "code",
   "execution_count": 313,
   "metadata": {
    "collapsed": false
   },
   "outputs": [],
   "source": [
    "s_ids,s_labels,s_corpus=loadMultiDomainData('dvd')\n",
    "t_ids,t_labels,t_corpus=loadMultiDomainData('electronics')\n",
    "\n",
    "subSetSize = 1000;\n",
    "data_s = s_corpus[0:0+subSetSize]+s_corpus[1000:1000+subSetSize]\n",
    "data_t = t_corpus[0:0+subSetSize]+t_corpus[1000:1000+subSetSize]\n",
    "\n",
    "vectorizer = CountVectorizer(min_df=1,stop_words='english',binary=True)\n",
    "X=vectorizer.fit_transform(data_s+data_t);\n",
    "Y = [1]*subSetSize+[0]*subSetSize+[1]*subSetSize+[0]*subSetSize\n",
    "\n",
    "# Small subset for quick development and validation.\n",
    "# subSetSize=40;\n",
    "# XS = sp.sparse.vstack((X[0:0+subSetSize,:], X[1000:1000+subSetSize,:]), format='csr')\n",
    "# XT = sp.sparse.vstack((X[2000:2000+subSetSize,:], X[3000:3000+subSetSize,:]), format='csr')\n",
    "# YS = Y[0:0+subSetSize]+Y[1000:1000+subSetSize];\n",
    "# YT = Y[2000:2000+subSetSize]+Y[3000:3000+subSetSize]\n",
    "\n",
    "# Complete data set\n",
    "XS=X[0:2*subSetSize,:]\n",
    "XT=X[2*subSetSize:4*subSetSize,:]\n",
    "YS=Y[0:2*subSetSize]\n",
    "YT=Y[2*subSetSize:4*subSetSize]\n",
    "\n"
   ]
  },
  {
   "cell_type": "code",
   "execution_count": 314,
   "metadata": {
    "collapsed": false
   },
   "outputs": [
    {
     "data": {
      "text/plain": [
       "array([ 0.08948183])"
      ]
     },
     "execution_count": 314,
     "metadata": {},
     "output_type": "execute_result"
    }
   ],
   "source": [
    "A =XS.todense();#np.matrix('1 1 1 1;2 2 2 2;3 3 3 3')\n",
    "B =XT.todense();#np.matrix('1 1 1 1;2 2 2 2;3 3 3 3')\n",
    "\n",
    "epsilon = 0.1;\n",
    "vocab = A.shape[1];\n",
    "alpha = np.ones(shape=(vocab,1))\n",
    "alpha = alpha/vocab;\n",
    "\n",
    "\n",
    "B_L = A.sum(axis=0).transpose()\n",
    "B_L = B_L/A.shape[0]\n",
    "\n",
    "for i in range(0,10):\n",
    "    alpha=alpha+epsilon*B.transpose()*np.divide(1,np.dot(B,alpha));\n",
    "    alpha=alpha+np.divide((B_L*(1-B_L.transpose()*alpha)),B_L.transpose() * B_L);\n",
    "    alpha=np.maximum(0,alpha)\n",
    "    alpha = alpha / (B_L.transpose()*alpha);\n",
    "\n",
    "    \n",
    "    \n",
    "# #     for i in range(0,4):\n",
    "# #         alpha = alpha + epsilon*B\n",
    "#     print(B.transpose().shape)\n",
    "#     print(np.divide(1,B*alpha).shape)\n",
    "#     print((B.transpose()*np.divide(1,B*alpha)).shape)\n",
    "#     #np.divide(1,B*alpha)\n",
    "#     #\n",
    "#     #print(B_L.shape,alpha.shape)\n",
    "#     #np.dot(B_L.transpose(),alpha)\n",
    "    \n",
    "#     #print(B_L.transpose()*B_L)\n",
    "X1=sp.sparse.csc_matrix(np.multiply(alpha.transpose(),A))\n",
    "X2=sp.sparse.csc_matrix(np.multiply(alpha.transpose(),B))\n",
    "klDivergence(X1,X2)"
   ]
  },
  {
   "cell_type": "code",
   "execution_count": 293,
   "metadata": {
    "collapsed": false
   },
   "outputs": [],
   "source": []
  },
  {
   "cell_type": "code",
   "execution_count": 299,
   "metadata": {
    "collapsed": false
   },
   "outputs": [],
   "source": [
    "def klDivergence(XS,XT):\n",
    "    A=(XS.sum(axis=0).transpose()+1)/(XS.shape[0]+XS.shape[1])\n",
    "    B=(XT.sum(axis=0).transpose()+1)/(XT.shape[0]+XT.shape[1])\n",
    "    KAB=sp.stats.entropy(A,B)\n",
    "    KBA=sp.stats.entropy(B,A)\n",
    "    return KAB+KBA;"
   ]
  },
  {
   "cell_type": "code",
   "execution_count": 315,
   "metadata": {
    "collapsed": false
   },
   "outputs": [
    {
     "data": {
      "text/plain": [
       "0.69350000000000001"
      ]
     },
     "execution_count": 315,
     "metadata": {},
     "output_type": "execute_result"
    }
   ],
   "source": [
    "clf3 = svm.SVC(kernel='linear', C=1)\n",
    "clf3.fit(XS,YS);\n",
    "pred = clf3.predict(XT);\n",
    "accuracy_score(YT,pred)"
   ]
  },
  {
   "cell_type": "code",
   "execution_count": 316,
   "metadata": {
    "collapsed": false
   },
   "outputs": [
    {
     "data": {
      "text/plain": [
       "0.64600000000000002"
      ]
     },
     "execution_count": 316,
     "metadata": {},
     "output_type": "execute_result"
    }
   ],
   "source": [
    "clf3 = svm.SVC(kernel='linear', C=1)\n",
    "clf3.fit(X1,YS);\n",
    "pred = clf3.predict(X2);\n",
    "accuracy_score(YT,pred)"
   ]
  },
  {
   "cell_type": "code",
   "execution_count": 20,
   "metadata": {
    "collapsed": false
   },
   "outputs": [],
   "source": [
    "uss = sp.sparse.csc_matrix(us)"
   ]
  },
  {
   "cell_type": "code",
   "execution_count": 27,
   "metadata": {
    "collapsed": false
   },
   "outputs": [
    {
     "data": {
      "text/plain": [
       "1.0000000000000386"
      ]
     },
     "execution_count": 27,
     "metadata": {},
     "output_type": "execute_result"
    }
   ],
   "source": [
    "A=np.dot(us.transpose(),us)\n",
    "np.linalg.det(A)"
   ]
  },
  {
   "cell_type": "markdown",
   "metadata": {},
   "source": [
    "KL Divergence"
   ]
  },
  {
   "cell_type": "code",
   "execution_count": 25,
   "metadata": {
    "collapsed": false
   },
   "outputs": [],
   "source": [
    " # Class conditional probablities.\n",
    "classLabels=np.unique(YS+YT)\n",
    "XSC=classConditionalProbs(XS,YS,classLabels,'additive')\n",
    "XTC=classConditionalProbs(XT,YT,classLabels,'additive')\n",
    "\n",
    "#Normalize\n",
    "XSC=normalize(XSC,norm='l1')\n",
    "XTC=normalize(XTC,norm='l1')\n",
    "\n",
    "# Calculate Symmetric KL Divergence.\n",
    "kld=symKlDivergence(XSC,XTC,classLabels)"
   ]
  },
  {
   "cell_type": "markdown",
   "metadata": {},
   "source": [
    "Functions specific to reweighting with labels.\n"
   ]
  },
  {
   "cell_type": "code",
   "execution_count": 80,
   "metadata": {
    "collapsed": false
   },
   "outputs": [
    {
     "name": "stderr",
     "output_type": "stream",
     "text": [
      "0%                          100%\n",
      "[#######################       ] | ETA: 00:00:00"
     ]
    },
    {
     "name": "stdout",
     "output_type": "stream",
     "text": [
      "Title: \n",
      "  Started: 04/05/2016 14:31:16\n",
      "  Finished: 04/05/2016 14:31:16\n",
      "  Total time elapsed: 00:00:00\n",
      "  CPU %: 76.70\n",
      "  Memory %: 3.96\n"
     ]
    }
   ],
   "source": [
    "simMat,diffMat = generate_WS_matrix(YS,YT);"
   ]
  },
  {
   "cell_type": "code",
   "execution_count": 81,
   "metadata": {
    "collapsed": false,
    "scrolled": true
   },
   "outputs": [
    {
     "name": "stderr",
     "output_type": "stream",
     "text": [
      "0%                          100%\n",
      "[#######################       ] | ETA: 00:00:00"
     ]
    },
    {
     "name": "stdout",
     "output_type": "stream",
     "text": [
      "Title: \n",
      "  Started: 04/05/2016 14:31:19\n",
      "  Finished: 04/05/2016 14:31:19\n",
      "  Total time elapsed: 00:00:00\n",
      "  CPU %: 96.90\n",
      "  Memory %: 3.96\n"
     ]
    }
   ],
   "source": [
    "tMat=generate_topology_matrix(XS,XT);"
   ]
  },
  {
   "cell_type": "markdown",
   "metadata": {},
   "source": [
    "Z: feature-instance matrix."
   ]
  },
  {
   "cell_type": "code",
   "execution_count": 82,
   "metadata": {
    "collapsed": false
   },
   "outputs": [],
   "source": [
    "XSt=XS.transpose()\n",
    "XTt=XT.transpose()\n",
    "zeroMat=sp.sparse.csc_matrix(XSt.shape,dtype=np.int64)\n",
    "s1=sp.sparse.vstack((XSt,zeroMat), format='csc')\n",
    "s2=sp.sparse.vstack((zeroMat,XTt), format='csc')\n",
    "Z =sp.sparse.hstack((s1,s2), format='csc')"
   ]
  },
  {
   "cell_type": "code",
   "execution_count": 83,
   "metadata": {
    "collapsed": false
   },
   "outputs": [],
   "source": [
    "LS = laplacian_matrix(simMat)\n",
    "LD = laplacian_matrix(diffMat)\n",
    "L = laplacian_matrix(tMat)"
   ]
  },
  {
   "cell_type": "code",
   "execution_count": 99,
   "metadata": {
    "collapsed": false
   },
   "outputs": [],
   "source": [
    "A= Z*sp.around(0.1*L+LS)*Z.transpose()\n",
    "B= Z*sp.around(LD)*Z.transpose()"
   ]
  },
  {
   "cell_type": "code",
   "execution_count": 105,
   "metadata": {
    "collapsed": false
   },
   "outputs": [
    {
     "data": {
      "text/plain": [
       "0.0"
      ]
     },
     "execution_count": 105,
     "metadata": {},
     "output_type": "execute_result"
    }
   ],
   "source": [
    "np.linalg.det(A.todense())"
   ]
  },
  {
   "cell_type": "code",
   "execution_count": 106,
   "metadata": {
    "collapsed": false
   },
   "outputs": [
    {
     "data": {
      "text/plain": [
       "0.0"
      ]
     },
     "execution_count": 106,
     "metadata": {},
     "output_type": "execute_result"
    }
   ],
   "source": [
    "np.linalg.det(B.todense())"
   ]
  },
  {
   "cell_type": "code",
   "execution_count": 329,
   "metadata": {
    "collapsed": false
   },
   "outputs": [
    {
     "name": "stdout",
     "output_type": "stream",
     "text": [
      "[0.69350000000000001]\n",
      "[array([ 1.34986202])]\n",
      "[0.0073253002886228043, 0.0036677579783220516, 0.0025067549327676599, 0.0018699002260672689, 0.0016193854917121425, 0.0013925401631254743, 0.0012682294372651512, 0.0012021704062280497, 0.0011165179105610476, 0.0010248453628987802]\n"
     ]
    },
    {
     "data": {
      "image/png": "[encoded data removed]",
      "text/plain": [
       "<matplotlib.figure.Figure at 0x7fed624bba20>"
      ]
     },
     "metadata": {},
     "output_type": "display_data"
    }
   ],
   "source": [
    "import joblib\n",
    "from collections import namedtuple\n",
    "import matplotlib.pyplot as plt\n",
    "\n",
    "src=\"dvd\"\n",
    "tgt=\"electronics\"\n",
    "Score=namedtuple('Score',['t','s'])\n",
    "scoreList=joblib.load(\"/home/arun/data/covariate/mahadev/%s_%s\"%(src,tgt))\n",
    "original=[]\n",
    "svd=[]\n",
    "proj=[]\n",
    "\n",
    "original_kl=[]\n",
    "svd_kl=[]\n",
    "proj_kl=[]\n",
    "    \n",
    "for score in scoreList:\n",
    "    if(score.t.endswith(\"_kl\")):\n",
    "        if(score.t.startswith(\"original\")):\n",
    "            original_kl.append(score.s)\n",
    "        elif(score.t.startswith(\"svd\")):\n",
    "            svd_kl.append(score.s)\n",
    "        elif(score.t.startswith(\"proj\")):\n",
    "            proj_kl.append(score.s)        \n",
    "    else:\n",
    "        if(score.t.startswith(\"original\")):\n",
    "            original.append(score.s)\n",
    "        elif(score.t.startswith(\"svd\")):\n",
    "            svd.append(score.s)\n",
    "        elif(score.t.startswith(\"proj\")):\n",
    "            proj.append(score.s)           \n",
    "   \n",
    "# Plots\n",
    "X = range(50,550,50)\n",
    "plt.plot(X,original[0]*np.ones(10),label='Orig')\n",
    "plt.plot(X,0.698*np.ones(10),label='KLIEP')\n",
    "plt.plot(X,svd,label='SVD')\n",
    "plt.plot(X,proj,label='Proj')\n",
    "plt.xlabel(\"# of latent features\")\n",
    "plt.ylabel(\"Accuracy(%)\")\n",
    "plt.title((\"%s to %s\"%(src,tgt)).title())\n",
    "plt.legend(loc=4)\n",
    "plt.savefig(\"%s_%s.png\"%(src,tgt),dpi=300)\n",
    "\n",
    "print(original)\n",
    "print(original_kl)\n",
    "print(proj_kl)\n"
   ]
  },
  {
   "cell_type": "code",
   "execution_count": 25,
   "metadata": {
    "collapsed": false
   },
   "outputs": [
    {
     "data": {
      "text/plain": [
       "'Arun Reddy'"
      ]
     },
     "execution_count": 25,
     "metadata": {},
     "output_type": "execute_result"
    }
   ],
   "source": [
    "\"arun reddy\".title()"
   ]
  },
  {
   "cell_type": "code",
   "execution_count": 122,
   "metadata": {
    "collapsed": false
   },
   "outputs": [
    {
     "data": {
      "text/plain": [
       "0.0"
      ]
     },
     "execution_count": 122,
     "metadata": {},
     "output_type": "execute_result"
    }
   ],
   "source": [
    "np.linalg.det((XS.transpose()*XS).todense())"
   ]
  },
  {
   "cell_type": "code",
   "execution_count": 123,
   "metadata": {
    "collapsed": true
   },
   "outputs": [],
   "source": [
    "import gensim"
   ]
  },
  {
   "cell_type": "code",
   "execution_count": 124,
   "metadata": {
    "collapsed": true
   },
   "outputs": [],
   "source": [
    "import gensim.models.word2vec as wv"
   ]
  },
  {
   "cell_type": "code",
   "execution_count": 144,
   "metadata": {
    "collapsed": false
   },
   "outputs": [],
   "source": [
    "model=wv.Word2Vec(data_s, size=100, window=5, min_count=5, workers=4)"
   ]
  },
  {
   "cell_type": "code",
   "execution_count": 128,
   "metadata": {
    "collapsed": false
   },
   "outputs": [
    {
     "data": {
      "text/plain": [
       "[\"Bridget Jones, modern day woman, brillant and doesn't know it, prone to accidents and mess ups but manages to come out of them.  This is the book that started it all with the chick lit fever.  Bridget Jones is my hero!\",\n",
       " \"I am ordering copies for all 23 middle school principals and the two assistant principals leading two middle school programs in the Milwaukee Public Schools system. We will use Wheatley's book as the primary resource  for our professional growth at our MPS Middle School Principals  Collaborative institute August 9-11, 1999. We are not just concerned with  reform; we seek renewal as well. Wheatley provides the basis. She notes  that Einstein said that  a problem cannot be solved from the same  consciousness that created it. The entire book is a marvelous exploration  of this philosophy\",\n",
       " \"This book has its good points. If anything, it helps you put into words what you want  from a supervisor, but it is not very accurate. The online test does not account for a difference between when 2 of their options are both exactly like you, or if they don't describe you at all. This messes up the results, and it did not describe me very well. I am not just in denial. I have taken a lot of personality type tests, like the Keirsey Temperment sorter and have a pretty good idea of my strengths. So, although this book is pretty good in making you understand the importance of incouraging your strengths, it still leaves you wondering about how you fit in to their terminology.As for using this book as a manager to better serve your employees, I'v seen it done and it does not necessarily work because the strengths spit out for people were not wholly accurate. The company I work for has done this, and most of the people who were shifted around to better serve their strengths (according to this book) are very unhappy in their new positions.Your money can be spent better elsewhere. I say its only worth about $10\",\n",
       " 'The fatalistic view of Conservativism is expressed by Kirk even before the first chapter concludes as he states, \"[Edmund] Burke, could he see our century, never would concede that a consumption-society, so near suicide, is the end for which Providence has prepared man\".  But wait. The Conservative Mind was first published in 1953, the mythical golden age of America with Ward and June Cleaver and Normal Rockwell. Meanwhile, Burke, a contemporary of the 18th century is pining for the 14th century. What a depressing ideology to think that we always live in the worst of times.There are certain ideological threads that carry throughout the book including a belief in the stratification of society. Voting should be the privilege of a small minority rather than universal democracy which Kirk saw as contributing to a degradation of society. Kirk writes, \"What men really are seeking, or ought to seek, is not the right to govern themselves, but the right to be governed well\" but what he offers is a lack of true representation. The author pines for the days of the aristocrat and although he defines the elites by wealth, intellect and lineage he clearly includes race and gender. Is it so surprising that Kirk lauds some of the worst racists in American history like Nathanial Bedford Forrest whom he describes as `magnificent\\' before quoting his racist vitriol? In a particularly galling move he referrers to pro-slavery advocate John C. Calhoun as a `defender of minorities\\' and praises John Randolph for, among other things, opposing doctrines of racial equality. Kirk goes on about Calhoun\\'s support for states rights but his support only extended to southern states as he supported the Fugitive Slave Act which forced federal officials and law officials in Northern states to return runaway slave under penalty of $1000 fine. He supported laws that would make it illegal for northerners to even protest slavery. For Calhoun states rights were nothing more than a self serving attempt to keep slavery safe. Kirk shows his own racist stripes when he refers to northern `anti-slavery agitation\\' and supports Calhoun for choosing racial preservation over liberty, although Calhoun has an extremely warped view of liberty. One wonders if Kirk could even fathom the supreme irony in stating the Calhoun mounted a `strong protest against domination by class or region\\'.Another thread is his desire to see the reunification of church and state. The duty of the church is to keep the unclean masses in line. Quoting Samuel Coleridge, the author makes it clear that the truth or falsity of the church is irrelevant; it is an institution that must be preserved as the primary means of social control. Sounding like the inspiration for disgraced Chief Justice Roy Moore, Russell Kirk urges that, \"state and church ought never to be separate entities, true religion is not merely an expression of national spirit; it rises far superior to earthly law, being, indeed, the source of all law\". Kirk sees a difference between the faulty laws of man and the laws of God but never draws a distinction. I have to wonder if, like the modern Reconstructionist, Kirk wanted to see the laws of Leviticus imposed including executing homosexuals and blasphemers. He never explains how one might recognize a law of God besides using prejudice.The third thread would be Kirk\\'s anti-intellectual (or perhaps pro-stupid) stance. He refers to human reason as `puny\\' and `impotent\\' and claims that we find the mind of God in prejudice and tradition. `Prejudice\\', he writes, `is of ready application in the emergency; it previously engages the mind in a steady course of wisdom and virtue, and does not leave the man hesitating in the moment of decision, skeptical, puzzled, and unresolved\\'. Actually what he is advocating is for the general population to turn over rational thought to the church and those higher up the social chain. Citizens are encouraged to exhibit awe and veneration for God and those in higher stations and authority.In order to grab the golden fleece of populism Conservatives have lately had to abandon overt stratification although veneration of wealth is certainly still evident. Like Calhoun the support for states rights remains a complete faade. I found Russell Kirk\\'s salesmanship of Conservativism generally repellent but recommend the book because it remains a fairly enlightening view of an ideology that continues to thrive to this day.']"
      ]
     },
     "execution_count": 128,
     "metadata": {},
     "output_type": "execute_result"
    }
   ],
   "source": [
    "data_s"
   ]
  },
  {
   "cell_type": "code",
   "execution_count": 150,
   "metadata": {
    "collapsed": false
   },
   "outputs": [
    {
     "data": {
      "text/plain": [
       "{'first': <gensim.models.word2vec.Vocab at 0x7f0d5de3f358>,\n",
       " 'second': <gensim.models.word2vec.Vocab at 0x7f0d5de3f390>,\n",
       " 'sentence': <gensim.models.word2vec.Vocab at 0x7f0d5de3f3c8>}"
      ]
     },
     "execution_count": 150,
     "metadata": {},
     "output_type": "execute_result"
    }
   ],
   "source": [
    "sentences = [['first', 'sentence'], ['second', 'sentence']]\n",
    "model = gensim.models.Word2Vec(sentences, min_count=1)\n",
    "model.vocab"
   ]
  },
  {
   "cell_type": "code",
   "execution_count": 180,
   "metadata": {
    "collapsed": false
   },
   "outputs": [],
   "source": [
    "sentences = []\n",
    "for line in data_s:\n",
    "    sentences.append(line.lower().split())\n",
    "    \n",
    "\n",
    "model = gensim.models.Word2Vec(sentences,size=100, window=5, min_count=2, workers=4)"
   ]
  },
  {
   "cell_type": "code",
   "execution_count": 181,
   "metadata": {
    "collapsed": false
   },
   "outputs": [
    {
     "data": {
      "text/plain": [
       "14635"
      ]
     },
     "execution_count": 181,
     "metadata": {},
     "output_type": "execute_result"
    }
   ],
   "source": [
    "len(model.vocab)"
   ]
  },
  {
   "cell_type": "code",
   "execution_count": 182,
   "metadata": {
    "collapsed": false
   },
   "outputs": [
    {
     "data": {
      "text/plain": [
       "[('book.', 0.7548404335975647),\n",
       " ('book,', 0.6584270000457764),\n",
       " ('fluff.', 0.6485207080841064),\n",
       " ('mccullough', 0.6412122845649719),\n",
       " ('novel', 0.6236221790313721),\n",
       " ('disappointing', 0.6097298860549927),\n",
       " ('battle.', 0.6055798530578613),\n",
       " ('play.', 0.5934592485427856),\n",
       " ('results,', 0.5825697183609009),\n",
       " ('memoir', 0.579273521900177)]"
      ]
     },
     "execution_count": 182,
     "metadata": {},
     "output_type": "execute_result"
    }
   ],
   "source": [
    "model.most_similar(positive=['book'])"
   ]
  },
  {
   "cell_type": "code",
   "execution_count": 183,
   "metadata": {
    "collapsed": false
   },
   "outputs": [
    {
     "data": {
      "text/plain": [
       "[('includes', 0.8936773538589478),\n",
       " ('becomes', 0.8905996084213257),\n",
       " ('creates', 0.8815507888793945),\n",
       " ('young', 0.8695155382156372),\n",
       " ('unique', 0.8691244125366211),\n",
       " ('necklace,', 0.8602585792541504),\n",
       " ('sam', 0.8529733419418335),\n",
       " ('policy', 0.8471596837043762),\n",
       " ('paints', 0.8461211323738098),\n",
       " ('brooding', 0.8435299396514893)]"
      ]
     },
     "execution_count": 183,
     "metadata": {},
     "output_type": "execute_result"
    }
   ],
   "source": [
    "model.most_similar(positive=['negative'])"
   ]
  }
 ],
 "metadata": {
  "kernelspec": {
   "display_name": "Python 3",
   "language": "python",
   "name": "python3"
  },
  "language_info": {
   "codemirror_mode": {
    "name": "ipython",
    "version": 3
   },
   "file_extension": ".py",
   "mimetype": "text/x-python",
   "name": "python",
   "nbconvert_exporter": "python",
   "pygments_lexer": "ipython3",
   "version": "3.5.1"
  }
 },
 "nbformat": 4,
 "nbformat_minor": 0
}
