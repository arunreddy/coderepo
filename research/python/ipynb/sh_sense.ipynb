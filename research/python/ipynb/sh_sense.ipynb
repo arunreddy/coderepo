{
 "cells": [
  {
   "cell_type": "code",
   "execution_count": 75,
   "metadata": {
    "collapsed": true
   },
   "outputs": [],
   "source": [
    "import os\n",
    "from sklearn.feature_extraction.text import CountVectorizer,TfidfVectorizer\n",
    "import tarfile\n",
    "import joblib\n",
    "from sklearn.cluster import KMeans\n",
    "import polyglot\n",
    "from polyglot.text import Text, Word"
   ]
  },
  {
   "cell_type": "code",
   "execution_count": 76,
   "metadata": {
    "collapsed": false
   },
   "outputs": [
    {
     "name": "stdout",
     "output_type": "stream",
     "text": [
      "1819\n"
     ]
    }
   ],
   "source": [
    "# Load Data\n",
    "X, Y, data, labels = joblib.load(\"/tmp/politicsNews.vars\")\n",
    "print(len(data))"
   ]
  },
  {
   "cell_type": "code",
   "execution_count": 80,
   "metadata": {
    "collapsed": false
   },
   "outputs": [],
   "source": [
    "countVectorizer = CountVectorizer(stop_words='english',min_df=3,max_df=500,ngram_range=[1,2])\n",
    "X = countVectorizer.fit_transform(data)\n",
    "vocabularyDict = countVectorizer.vocabulary_\n",
    "joblib.dump(vocabularyDict,'/tmp/vocabularyDict.dat',compress=7)\n",
    "\n",
    "from sklearn.datasets import dump_svmlight_file\n",
    "classLabels = sorted(set(labels))\n",
    "labelInds = []\n",
    "for label in labels:\n",
    "    labelInds.append(classLabels.index(label)+1)\n",
    "    \n",
    "from sklearn.cross_validation import train_test_split\n",
    "X_train, X_test, y_train, y_test = train_test_split(X, labelInds, test_size=0.33, random_state=42)\n",
    "\n",
    "dump_svmlight_file(X_train,y_train,'/tmp/svmLight_train.dat',zero_based=False)\n",
    "dump_svmlight_file(X_test,y_test,'/tmp/svmLight_test.dat',zero_based=False)\n",
    "dump_svmlight_file(X,labelInds,'/tmp/svmLight.dat',zero_based=False)\n",
    "\n"
   ]
  },
  {
   "cell_type": "code",
   "execution_count": 99,
   "metadata": {
    "collapsed": false
   },
   "outputs": [
    {
     "name": "stdout",
     "output_type": "stream",
     "text": [
      "/tmp/tmp2nusfoue\n"
     ]
    }
   ],
   "source": [
    "text = data[4]\n",
    "countVectorizer2 = CountVectorizer(stop_words='english', min_df=1, ngram_range=[1, 3],vocabulary=vocabularyDict)\n",
    "X =  countVectorizer2.fit_transform([text]);\n",
    "\n",
    "import tempfile\n",
    "\n",
    "f = tempfile.mktemp()\n",
    "print(f)\n",
    "dump_svmlight_file(X,[100],f)"
   ]
  },
  {
   "cell_type": "code",
   "execution_count": 83,
   "metadata": {
    "collapsed": false
   },
   "outputs": [
    {
     "data": {
      "text/plain": [
       "0"
      ]
     },
     "execution_count": 83,
     "metadata": {},
     "output_type": "execute_result"
    }
   ],
   "source": [
    "import os\n",
    "\n",
    "os.system('/home/arun/thirdparty/paper-impl/svm_multiclass/svm_multiclass_learn')"
   ]
  },
  {
   "cell_type": "code",
   "execution_count": 94,
   "metadata": {
    "collapsed": false,
    "scrolled": true
   },
   "outputs": [
    {
     "data": {
      "text/plain": [
       "b\"Reading training examples... (1819 examples) done\\nTraining set properties: 20478 features, 29 classes\\nIter 1: .........*(NumConst=1, SV=1, CEps=100.0000, QPEps=0.0000)\\nIter 2: *(NumConst=2, SV=1, CEps=88.1775, QPEps=0.0245)\\nIter 3: .........*(NumConst=3, SV=2, CEps=11.2868, QPEps=0.0000)\\nIter 4: .........*(NumConst=4, SV=4, CEps=1.7452, QPEps=0.6164)\\nIter 5: *(NumConst=5, SV=3, CEps=0.7433, QPEps=0.0884)\\nIter 6: *(NumConst=6, SV=4, CEps=0.2594, QPEps=0.0507)\\nIter 7: .........*(NumConst=7, SV=6, CEps=0.6514, QPEps=0.2504)\\nIter 8: *(NumConst=8, SV=6, CEps=0.3490, QPEps=0.1400)\\nIter 9: *(NumConst=9, SV=6, CEps=0.1475, QPEps=0.0513)\\nIter 10: *(NumConst=10, SV=6, CEps=0.1066, QPEps=0.0336)\\nIter 11: .........*(NumConst=11, SV=8, CEps=0.2752, QPEps=0.0659)\\nIter 12: .........*(NumConst=12, SV=10, CEps=0.1661, QPEps=0.0606)\\nIter 13: .........*(NumConst=13, SV=10, CEps=0.1138, QPEps=0.0000)\\nIter 14: .........(NumConst=13, SV=10, CEps=0.0880, QPEps=0.0000)\\nFinal epsilon on KKT-Conditions: 0.08803\\nUpper bound on duality gap: 0.08803\\nDual objective value: dval=99.41878\\nPrimal objective value: pval=99.50681\\nTotal number of constraints in final working set: 13 (of 13)\\nNumber of iterations: 14\\nNumber of calls to 'find_most_violated_constraint': 14552\\nNumber of SV: 10 \\nNorm of weight vector: |w|=1.07817\\nValue of slack variable (on working set): xi=98.83756\\nValue of slack variable (global): xi=98.92559\\nNorm of longest difference vector: ||Psi(x,y)-Psi(x,ybar)||=3.43546\\nRuntime in cpu-seconds: 0.42\\nFinal number of constraints in cache: 8873\\nCompacting linear model...done\\nWriting learned model...done\\n\""
      ]
     },
     "execution_count": 94,
     "metadata": {},
     "output_type": "execute_result"
    }
   ],
   "source": [
    "import subprocess\n",
    "subprocess.check_output(['/home/arun/thirdparty/paper-impl/svm_multiclass/svm_multiclass_learn','-c','1.0','/tmp/svmLight.dat','/tmp/svmModel.dat'])"
   ]
  },
  {
   "cell_type": "code",
   "execution_count": 102,
   "metadata": {
    "collapsed": false
   },
   "outputs": [
    {
     "data": {
      "text/plain": [
       "b'Reading model...done.\\nReading test examples... (1 examples) done.\\nClassifying test examples...done\\nRuntime (without IO) in cpu-seconds: 0.00\\nAverage loss on test set: 100.0000\\nZero/one-error on test set: 100.00% (0 correct, 1 incorrect, 1 total)\\n'"
      ]
     },
     "execution_count": 102,
     "metadata": {},
     "output_type": "execute_result"
    }
   ],
   "source": [
    "subprocess.check_output(['/home/arun/thirdparty/paper-impl/svm_multiclass/svm_multiclass_classify',f,'/tmp/svmModel.dat','outFile'])"
   ]
  },
  {
   "cell_type": "code",
   "execution_count": 111,
   "metadata": {
    "collapsed": false
   },
   "outputs": [
    {
     "data": {
      "text/plain": [
       "'Punjab Politics'"
      ]
     },
     "execution_count": 111,
     "metadata": {},
     "output_type": "execute_result"
    }
   ],
   "source": [
    "text = open('outFile','r')\n",
    "text = text.read()\n",
    "fields = text.split(' ')\n",
    "labelInd = int(fields[0])\n",
    "\n",
    "classLabels[labelInd-1]"
   ]
  },
  {
   "cell_type": "code",
   "execution_count": 6,
   "metadata": {
    "collapsed": false
   },
   "outputs": [
    {
     "data": {
      "text/plain": [
       "'University/ORGANIZATION of/ORGANIZATION California/ORGANIZATION is/O located/O in/O California/LOCATION ,/O United/LOCATION States/LOCATION \\n'"
      ]
     },
     "execution_count": 6,
     "metadata": {},
     "output_type": "execute_result"
    }
   ],
   "source": [
    "import ner\n",
    "tagger = ner.SocketNER(host='localhost', port=9010)\n",
    "tagger.tag_text(\"University of California is located in California, United States\")"
   ]
  },
  {
   "cell_type": "code",
   "execution_count": 7,
   "metadata": {
    "collapsed": false
   },
   "outputs": [
    {
     "data": {
      "text/plain": [
       "\"Punjab/O Minister/O kicks/O up/O row/O ,/O says/O Moga/O victim/O 's/O death/O God/O 's/O willMoga/O :/O Punjab/ORGANIZATION Education/ORGANIZATION Minister/O Surjit/PERSON Singh/PERSON Rakhra/PERSON on/O Saturday/DATE triggered/O a/O controversy/O by/O making/O an/O insensitive/O comment/O that/O the/O death/O of/O the/O teenage/O girl/O ,/O who/O was/O molested/O and/O thrown/O off/O a/O bus/O belonging/O to/O the/O ruling/O Badal/PERSON family/O ,/O was/O God/O 's/O will/O ./O \\n`/O Nobody/O can/O stop/O accidents/O ./O \\nWhatever/O happens/O does/O so/O by/O God/O 's/O will/O ./O \\n``/O We/O can/O always/O meet/O with/O an/O accident/O ./O \\nWe/O will/O do/O more/O forthe/O people.What/O has/O happened/O is/O unfortunate/O ./O \\nYou/O can/O not/O go/O against/O nature/O 's/O will/O ,/O ''/O he/O said.IN/O PICS/O :/O Protests/O over/O Moga/LOCATION molestation/O incident/O !!!/O \\nRejecting/O government/O compensation/O and/O demanding/O action/O against/O the/O owners/O of/O the/O vehicle/O ,/O family/O members/O of/O the/O girl/O have/O refused/O to/O perform/O her/O last/O rites.Also/O read/O :/O Moga/O bus/O incident/O :/O Victim/O 's/O father/O demands/O FIR/ORGANIZATION against/O Sukhbir/PERSON Singh/PERSON Badal/PERSON ``/O There/O is/O no/O headway/O on/O this/O issue/O -LRB-/O on/O the/O cremation/O -RRB-/O ,/O ''/O Moga/PERSON SSP/PERSON Jatinder/PERSON Singh/PERSON Khehra/PERSON said.The/O body/O of/O girl/O has/O been/O kept/O in/O a/O mortuary/O at/O Singhawala/LOCATION village/O here.All/O attempts/O by/O the/O state/O authorities/O to/O persuade/O the/O bereaved/O family/O to/O cremate/O her/O proved/O futile/O after/O they/O rejected/O a/O compensation/O of/O Rs/O 20/O lakh/O ,/O a/O government/O job/O for/O her/O mother/O ,/O her/O free/O treatment/O and/O holding/O trial/O of/O the/O case/O in/O a/O fast/O track/O court.Also/O read/O :/O Ramdev/O rebuts/O allegations/O on/O `/O Putrajeevak/O '/O medicine/O ;/O Health/O Minister/O to/O look/O into/O issueThe/O family/O was/O insisting/O that/O the/O owners/O of/O the/O bus/O ,/O Orbit/ORGANIZATION Aviation/ORGANIZATION ,/O be/O booked/O in/O connection/O with/O the/O offence/O and/O its/O road/O permits/O be/O cancelled/O ,/O a/O demand/O vociferously/O supported/O by/O AAP/ORGANIZATION ./O \\n``/O I/O want/O justice/O ./O \\nI/O want/O justice/O for/O my/O daughter/O ./O \\nFIR/O should/O be/O registered/O against/O those/O whom/O the/O bus/O belonged/O to/O ,/O ''/O victim/O 's/O father/O had/O said/O on/O Friday.When/O he/O was/O asked/O whether/O he/O wanted/O registration/O of/O FIR/ORGANIZATION against/O Sukhbir/ORGANIZATION Badal/ORGANIZATION ,/O he/O had/O said/O ,/O ``/O FIR/O can/O be/O lodged/O against/O him/O -LRB-/O Sukhbir/O -RRB-/O after/O all/O he/O is/O a/O human/O being/O ./O ''/O \\n``/O Is/O there/O nobody/O in/O the/O world/O who/O can/O lodge/O FIR/ORGANIZATION against/O him/O -LRB-/O Sukhbir/O -RRB-/O ,/O ''/O he/O had/O questioned/O on/O Friday.Also/O read/O :/O Economic/O policy/O ``/O directionless/O ''/O ,/O minorities/O anxious/O :/O Arun/PERSON ShourieThe/PERSON 13-year-old/O victim/O and/O her/O mother/O were/O thrown/O off/O the/O moving/O bus/O by/O a/O group/O of/O men/O ,/O including/O the/O conductor/O ,/O after/O they/O resisted/O molestation/O attempts/O on/O Thursday/DATE ./O \\n\""
      ]
     },
     "execution_count": 7,
     "metadata": {},
     "output_type": "execute_result"
    }
   ],
   "source": [
    "tagger.tag_text(data[1])"
   ]
  },
  {
   "cell_type": "code",
   "execution_count": 46,
   "metadata": {
    "collapsed": true
   },
   "outputs": [],
   "source": [
    "from sklearn.datasets import dump_svmlight_file"
   ]
  },
  {
   "cell_type": "code",
   "execution_count": 47,
   "metadata": {
    "collapsed": false
   },
   "outputs": [],
   "source": [
    "classLabels = sorted(set(labels))"
   ]
  },
  {
   "cell_type": "code",
   "execution_count": 48,
   "metadata": {
    "collapsed": false
   },
   "outputs": [],
   "source": [
    "labelInds = []\n",
    "for label in labels:\n",
    "    labelInds.append(classLabels.index(label)+1)"
   ]
  },
  {
   "cell_type": "code",
   "execution_count": 49,
   "metadata": {
    "collapsed": true
   },
   "outputs": [],
   "source": [
    "from sklearn.cross_validation import train_test_split"
   ]
  },
  {
   "cell_type": "code",
   "execution_count": 50,
   "metadata": {
    "collapsed": true
   },
   "outputs": [],
   "source": [
    "X_train, X_test, y_train, y_test = train_test_split(X, labelInds, test_size=0.33, random_state=42)"
   ]
  },
  {
   "cell_type": "code",
   "execution_count": 51,
   "metadata": {
    "collapsed": false
   },
   "outputs": [],
   "source": [
    "dump_svmlight_file(X_train,y_train,'/tmp/svmLight_train.dat',zero_based=False)\n",
    "dump_svmlight_file(X_test,y_test,'/tmp/svmLight_test.dat',zero_based=False)"
   ]
  },
  {
   "cell_type": "code",
   "execution_count": 34,
   "metadata": {
    "collapsed": false
   },
   "outputs": [
    {
     "name": "stdout",
     "output_type": "stream",
     "text": [
      "['AndhraPradesh Politics', 'ArunachalPradesh Politics', 'Assam Politics', 'Bihar Politics', 'Chhattisgarh Politics', 'Delhi Politics', 'Goa Politics', 'Gujarath Politics', 'Haryana', 'HimachalPradesh Politics', 'Jammu and Kashmir Politics', 'Jarkhand Politics', 'Karnataka Politics', 'Kerala Politics', 'MadhyaPradesh Politics', 'Maghalaya Politics', 'Maharashtra Politics', 'Manipur Politics', 'Mizoram Politics', 'Nagaland Politics', 'Odisha Politics', 'Punjab Politics', 'Rajasthan Politics', 'Sikkim Politics', 'Telangana Politics', 'Tripura Politics', 'UttarPradesh Politics', 'Uttarakhand Politics', 'WestBengal Politics']\n"
     ]
    }
   ],
   "source": [
    "print(classLabels)"
   ]
  }
 ],
 "metadata": {
  "kernelspec": {
   "display_name": "Python 3",
   "language": "python",
   "name": "python3"
  },
  "language_info": {
   "codemirror_mode": {
    "name": "ipython",
    "version": 3
   },
   "file_extension": ".py",
   "mimetype": "text/x-python",
   "name": "python",
   "nbconvert_exporter": "python",
   "pygments_lexer": "ipython3",
   "version": "3.5.1"
  }
 },
 "nbformat": 4,
 "nbformat_minor": 0
}
