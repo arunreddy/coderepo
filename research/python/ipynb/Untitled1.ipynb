{
 "cells": [
  {
   "cell_type": "code",
   "execution_count": 43,
   "metadata": {
    "collapsed": false
   },
   "outputs": [
    {
     "name": "stdout",
     "output_type": "stream",
     "text": [
      "B_L = [2.0\n",
      " 2.0\n",
      " 2.0\n",
      " 2.0]\n",
      "vocab_size = 4\n",
      "alpha = [0.25\n",
      " 0.25\n",
      " 0.25\n",
      " 0.25]\n",
      "size(alpha) = (4,1)\n",
      "size(1 ./ (A_U * alpha)) = (3,1)\n",
      "alpha = [1.75\n",
      " 1.75\n",
      " 1.75\n",
      " 1.75]\n",
      "1 - B_L' * alpha = [-13.0]\n",
      "(1 - B_L' * alpha) .* B_L = [-26.0\n",
      " -26.0\n",
      " -26.0\n",
      " -26.0]\n",
      "((1 - B_L' * alpha) .* B_L) / (B_L' * B_L) = [-1.625\n",
      " -1.625\n",
      " -1.625\n",
      " -1.625]\n",
      "B_L' * B_L = [16.0]\n",
      "alpha = [0.125\n",
      " 0.125\n",
      " 0.125\n",
      " 0.125]\n",
      "alpha = [0.125\n",
      " 0.125\n",
      " 0.125\n",
      " 0.125]\n",
      "alpha = [0.125\n",
      " 0.125\n",
      " 0.125\n",
      " 0.125]\n",
      "AL = [1 1 1 1\n",
      " 2 2 2 2\n",
      " 3 3 3 3]\n",
      "AU = [1 1 1 1\n",
      " 2 2 2 2\n",
      " 3 3 3 3]\n"
     ]
    }
   ],
   "source": [
    "\n",
    "function reweightInstances(XS,XT)\n",
    "\t\n",
    "\treturn A_L,A_U;\n",
    "end\n",
    "\n",
    "XS=[1 1 1 1;2 2 2 2;3 3 3 3]\n",
    "XT=[1 1 1 1;2 2 2 2;3 3 3 3]\n",
    "\n",
    "A_L = XS;\n",
    "A_U = XT;\n",
    "\n",
    "B_L = sum(A_L,1)';\n",
    "B_L = B_L/size(A_L,1);\n",
    "@show(B_L)\n",
    "\n",
    "\n",
    "epsilon = 0.5;\n",
    "vocab_size = size(A_L,2);\n",
    "@show(vocab_size)\n",
    "alpha = ones(vocab_size,1)/vocab_size;\n",
    "@show(alpha)\n",
    "@show(size(alpha))\n",
    "\n",
    "# Gradient Ascent algorithm.\n",
    "prev_sum_alpha=0;\n",
    "\n",
    "@show(size(1./(A_U*alpha)))\n",
    "alpha = alpha + epsilon* A_U'*(1./(A_U*alpha)); \n",
    "@show(alpha)\n",
    "\n",
    "@show( (1 - B_L'*alpha))\n",
    "@show( (1 - B_L'*alpha).*B_L)\n",
    "@show( (1 - B_L'*alpha).*B_L / (B_L'*B_L))\n",
    "@show((B_L'*B_L))\n",
    "alpha = alpha + (1 - B_L'*alpha).*B_L / (B_L'*B_L);\n",
    "@show(alpha)\n",
    "alpha = max(0,alpha);\n",
    "@show(alpha)\n",
    "alpha = alpha / (B_L'*alpha);\n",
    "delta = abs(prev_sum_alpha - sum(alpha,1));\n",
    "@show(alpha)\n",
    "if(delta[1,1] < 0.001)\n",
    "        break;\n",
    "end\n",
    "\n",
    "prev_sum_alpha = sum(alpha,1);\n",
    "\n",
    "\n",
    "\n",
    "@show AL;\n",
    "@show AU;"
   ]
  },
  {
   "cell_type": "code",
   "execution_count": 49,
   "metadata": {
    "collapsed": false
   },
   "outputs": [
    {
     "data": {
      "text/plain": [
       "3x4 Array{Float64,2}:\n",
       " 0.125  0.125  0.125  0.125\n",
       " 0.25   0.25   0.25   0.25 \n",
       " 0.375  0.375  0.375  0.375"
      ]
     },
     "execution_count": 49,
     "metadata": {},
     "output_type": "execute_result"
    }
   ],
   "source": [
    "alpha'.*AU"
   ]
  }
 ],
 "metadata": {
  "kernelspec": {
   "display_name": "Julia 0.5.0-dev",
   "language": "julia",
   "name": "julia-0.5"
  },
  "language_info": {
   "file_extension": ".jl",
   "mimetype": "application/julia",
   "name": "julia",
   "version": "0.5.0"
  }
 },
 "nbformat": 4,
 "nbformat_minor": 0
}
