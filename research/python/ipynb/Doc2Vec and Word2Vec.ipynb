{
 "cells": [
  {
   "cell_type": "code",
   "execution_count": 4,
   "metadata": {
    "collapsed": false
   },
   "outputs": [
    {
     "name": "stderr",
     "output_type": "stream",
     "text": [
      "UsageError: %%bash is a cell magic, but the cell body is empty."
     ]
    }
   ],
   "source": [
    "%%bash\n"
   ]
  },
  {
   "cell_type": "code",
   "execution_count": 1,
   "metadata": {
    "collapsed": false
   },
   "outputs": [],
   "source": [
    "import numpy as np\n",
    "import nltk\n",
    "import os\n",
    "import os.path\n",
    "import scipy as sp\n",
    "\n",
    "import math\n",
    "\n",
    "from sklearn.feature_extraction.text import CountVectorizer\n",
    "from sklearn.feature_extraction.text import TfidfVectorizer\n",
    "from sklearn import cross_validation\n",
    "from sklearn import svm\n",
    "from sklearn.metrics import accuracy_score\n",
    "from sklearn.cross_validation import StratifiedKFold\n",
    "from sklearn.metrics import mutual_info_score\n",
    "from sklearn.preprocessing import normalize\n",
    "\n",
    "from sklearn.metrics.pairwise import pairwise_distances\n",
    "import itertools\n",
    "import pyprind\n",
    "import psutil\n",
    "import joblib"
   ]
  },
  {
   "cell_type": "code",
   "execution_count": 2,
   "metadata": {
    "collapsed": false
   },
   "outputs": [],
   "source": [
    "def getCorpus(lines):\n",
    "    ids = list()\n",
    "    labels = list()\n",
    "    corpus = list()\n",
    "    for line in lines:\n",
    "        strs=line.rstrip('\\n').split(\"\\t\",2)\n",
    "        ids.append(strs[0])\n",
    "        labels.append(strs[1])\n",
    "        corpus.append(strs[2])\n",
    "    return ids,labels,corpus\n",
    "\n",
    "def loadMultiDomainData(domain):\n",
    "    posFile = \"{0}/data/domains/{1}/positive.review.text\".format(os.environ['HOME'],domain)\n",
    "    negFile = \"{0}/data/domains/{1}/negative.review.text\".format(os.environ['HOME'],domain)\n",
    "    \n",
    "    posLines = tuple(open(posFile,'r'))\n",
    "    negLines = tuple(open(negFile,'r'))\n",
    "\n",
    "    \n",
    "    p_ids,p_labels,p_corpus = getCorpus(posLines)\n",
    "    n_ids,n_labels,n_corpus = getCorpus(negLines)\n",
    "\n",
    "    return p_ids+n_ids,p_labels+n_labels,p_corpus+n_corpus"
   ]
  },
  {
   "cell_type": "code",
   "execution_count": 4,
   "metadata": {
    "collapsed": false
   },
   "outputs": [],
   "source": [
    "s_ids,s_labels,s_corpus=loadMultiDomainData('books')\n",
    "t_ids,t_labels,t_corpus=loadMultiDomainData('kitchen')\n",
    "\n",
    "subSetSize = 1000;\n",
    "data_s = s_corpus[0:0+subSetSize]+s_corpus[1000:1000+subSetSize]\n",
    "data_t = t_corpus[0:0+subSetSize]+t_corpus[1000:1000+subSetSize]\n"
   ]
  },
  {
   "cell_type": "code",
   "execution_count": null,
   "metadata": {
    "collapsed": true
   },
   "outputs": [],
   "source": []
  }
 ],
 "metadata": {
  "kernelspec": {
   "display_name": "Python 3",
   "language": "python",
   "name": "python3"
  },
  "language_info": {
   "codemirror_mode": {
    "name": "ipython",
    "version": 3
   },
   "file_extension": ".py",
   "mimetype": "text/x-python",
   "name": "python",
   "nbconvert_exporter": "python",
   "pygments_lexer": "ipython3",
   "version": "3.5.1"
  }
 },
 "nbformat": 4,
 "nbformat_minor": 0
}
